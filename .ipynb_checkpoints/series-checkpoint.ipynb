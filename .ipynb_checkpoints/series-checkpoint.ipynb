{
 "cells": [
  {
   "cell_type": "code",
   "execution_count": 1,
   "id": "056ad068-9bd4-4cf2-a14d-ba5fc54ac5ad",
   "metadata": {},
   "outputs": [],
   "source": [
    "import pandas as pd \n",
    "import numpy as np"
   ]
  },
  {
   "cell_type": "code",
   "execution_count": 6,
   "id": "985320cb-c3a4-4287-b7db-1ecd18ef2176",
   "metadata": {},
   "outputs": [],
   "source": [
    "# Pandas Series - Like a table column - 1 Dimensional Array Holding Any Type of Data"
   ]
  },
  {
   "cell_type": "code",
   "execution_count": 8,
   "id": "091af840-5596-4a2a-8d3a-9add66f98b63",
   "metadata": {},
   "outputs": [
    {
     "data": {
      "text/plain": [
       "0     5\n",
       "1     9\n",
       "2    12\n",
       "3    27\n",
       "dtype: int64"
      ]
     },
     "execution_count": 8,
     "metadata": {},
     "output_type": "execute_result"
    }
   ],
   "source": [
    "my_series = [5,9,12,27]\n",
    "my_var = pd.Series(my_series)\n",
    "my_var"
   ]
  },
  {
   "cell_type": "code",
   "execution_count": 9,
   "id": "0d94c9a4-50a9-4eab-aff0-f35deb0459c7",
   "metadata": {},
   "outputs": [],
   "source": [
    "# print specific value "
   ]
  },
  {
   "cell_type": "code",
   "execution_count": 10,
   "id": "bad72ec5-1756-4e50-afc4-6c145440eaff",
   "metadata": {},
   "outputs": [
    {
     "data": {
      "text/plain": [
       "27"
      ]
     },
     "execution_count": 10,
     "metadata": {},
     "output_type": "execute_result"
    }
   ],
   "source": [
    "my_var[3]"
   ]
  },
  {
   "cell_type": "code",
   "execution_count": 11,
   "id": "7fd93525-c52e-4ba2-96ec-e77c37fa8150",
   "metadata": {},
   "outputs": [],
   "source": [
    "# Labels using the index argument"
   ]
  },
  {
   "cell_type": "code",
   "execution_count": 16,
   "id": "cf0d79c6-3cba-4e7f-9e60-cb775f771d70",
   "metadata": {},
   "outputs": [
    {
     "data": {
      "text/plain": [
       "A     5\n",
       "B     9\n",
       "C    12\n",
       "D    27\n",
       "dtype: int64"
      ]
     },
     "execution_count": 16,
     "metadata": {},
     "output_type": "execute_result"
    }
   ],
   "source": [
    "my_index = [\"A\", \"B\", \"C\", \"D\"]\n",
    "my_var2 = pd.Series(my_series, index=my_index)\n",
    "my_var2 "
   ]
  },
  {
   "cell_type": "code",
   "execution_count": 17,
   "id": "d5d35a3a-8800-410e-ac82-60f0c16f7c45",
   "metadata": {},
   "outputs": [
    {
     "data": {
      "text/plain": [
       "12"
      ]
     },
     "execution_count": 17,
     "metadata": {},
     "output_type": "execute_result"
    }
   ],
   "source": [
    "my_var2[\"C\"]"
   ]
  },
  {
   "cell_type": "code",
   "execution_count": 19,
   "id": "b2e5c5c9-40ab-447e-97f4-f678f376b1ef",
   "metadata": {},
   "outputs": [
    {
     "data": {
      "text/plain": [
       "Tesla       24\n",
       "BMW         13\n",
       "Mercedes    15\n",
       "dtype: int64"
      ]
     },
     "execution_count": 19,
     "metadata": {},
     "output_type": "execute_result"
    }
   ],
   "source": [
    "cars = {\"Tesla\":24, \"BMW\":13, \"Mercedes\":15}\n",
    "my_var3 = pd.Series(cars)\n",
    "my_var3"
   ]
  },
  {
   "cell_type": "code",
   "execution_count": null,
   "id": "37526900-82aa-4e94-87a5-356e1bcb18e0",
   "metadata": {},
   "outputs": [],
   "source": []
  }
 ],
 "metadata": {
  "kernelspec": {
   "display_name": "Python 3 (ipykernel)",
   "language": "python",
   "name": "python3"
  },
  "language_info": {
   "codemirror_mode": {
    "name": "ipython",
    "version": 3
   },
   "file_extension": ".py",
   "mimetype": "text/x-python",
   "name": "python",
   "nbconvert_exporter": "python",
   "pygments_lexer": "ipython3",
   "version": "3.11.5"
  }
 },
 "nbformat": 4,
 "nbformat_minor": 5
}
