{
 "cells": [
  {
   "cell_type": "code",
   "execution_count": 2,
   "id": "085e15d9",
   "metadata": {},
   "outputs": [],
   "source": [
    "import pandas as pd\n",
    "import numpy as np\n",
    "from numpy.random import randn"
   ]
  },
  {
   "cell_type": "code",
   "execution_count": 4,
   "id": "91ca4fc4",
   "metadata": {},
   "outputs": [],
   "source": [
    "my_data = randn(4, 3) # (rows, columns)\n",
    "my_rows = [\"A\", \"B\", \"C\", \"D\"]\n",
    "my_columns = [\"Monday\", \"Tuesday\", \"Friday\"]"
   ]
  },
  {
   "cell_type": "code",
   "execution_count": 5,
   "id": "8b5c3160",
   "metadata": {},
   "outputs": [
    {
     "data": {
      "text/html": [
       "<div>\n",
       "<style scoped>\n",
       "    .dataframe tbody tr th:only-of-type {\n",
       "        vertical-align: middle;\n",
       "    }\n",
       "\n",
       "    .dataframe tbody tr th {\n",
       "        vertical-align: top;\n",
       "    }\n",
       "\n",
       "    .dataframe thead th {\n",
       "        text-align: right;\n",
       "    }\n",
       "</style>\n",
       "<table border=\"1\" class=\"dataframe\">\n",
       "  <thead>\n",
       "    <tr style=\"text-align: right;\">\n",
       "      <th></th>\n",
       "      <th>Monday</th>\n",
       "      <th>Tuesday</th>\n",
       "      <th>Friday</th>\n",
       "    </tr>\n",
       "  </thead>\n",
       "  <tbody>\n",
       "    <tr>\n",
       "      <th>A</th>\n",
       "      <td>0.360242</td>\n",
       "      <td>-0.577972</td>\n",
       "      <td>0.305120</td>\n",
       "    </tr>\n",
       "    <tr>\n",
       "      <th>B</th>\n",
       "      <td>0.554756</td>\n",
       "      <td>-0.625485</td>\n",
       "      <td>-0.289713</td>\n",
       "    </tr>\n",
       "    <tr>\n",
       "      <th>C</th>\n",
       "      <td>0.863891</td>\n",
       "      <td>0.785732</td>\n",
       "      <td>1.832899</td>\n",
       "    </tr>\n",
       "    <tr>\n",
       "      <th>D</th>\n",
       "      <td>1.043024</td>\n",
       "      <td>-1.029259</td>\n",
       "      <td>0.115859</td>\n",
       "    </tr>\n",
       "  </tbody>\n",
       "</table>\n",
       "</div>"
      ],
      "text/plain": [
       "     Monday   Tuesday    Friday\n",
       "A  0.360242 -0.577972  0.305120\n",
       "B  0.554756 -0.625485 -0.289713\n",
       "C  0.863891  0.785732  1.832899\n",
       "D  1.043024 -1.029259  0.115859"
      ]
     },
     "execution_count": 5,
     "metadata": {},
     "output_type": "execute_result"
    }
   ],
   "source": [
    "# Create DataFrame\n",
    "my_df = pd.DataFrame(my_data, my_rows, my_columns)\n",
    "my_df"
   ]
  },
  {
   "cell_type": "code",
   "execution_count": 23,
   "id": "99a078bb",
   "metadata": {},
   "outputs": [
    {
     "data": {
      "text/html": [
       "<div>\n",
       "<style scoped>\n",
       "    .dataframe tbody tr th:only-of-type {\n",
       "        vertical-align: middle;\n",
       "    }\n",
       "\n",
       "    .dataframe tbody tr th {\n",
       "        vertical-align: top;\n",
       "    }\n",
       "\n",
       "    .dataframe thead th {\n",
       "        text-align: right;\n",
       "    }\n",
       "</style>\n",
       "<table border=\"1\" class=\"dataframe\">\n",
       "  <thead>\n",
       "    <tr style=\"text-align: right;\">\n",
       "      <th></th>\n",
       "      <th>breed_name</th>\n",
       "      <th>average_height</th>\n",
       "      <th>average_weight</th>\n",
       "      <th>life_span</th>\n",
       "      <th>origin_country</th>\n",
       "    </tr>\n",
       "  </thead>\n",
       "  <tbody>\n",
       "    <tr>\n",
       "      <th>0</th>\n",
       "      <td>Fairfax</td>\n",
       "      <td>7.60</td>\n",
       "      <td>129.92</td>\n",
       "      <td>12</td>\n",
       "      <td>Russia</td>\n",
       "    </tr>\n",
       "    <tr>\n",
       "      <th>1</th>\n",
       "      <td>Carson</td>\n",
       "      <td>12.29</td>\n",
       "      <td>147.47</td>\n",
       "      <td>6</td>\n",
       "      <td>China</td>\n",
       "    </tr>\n",
       "    <tr>\n",
       "      <th>2</th>\n",
       "      <td>Matthieu</td>\n",
       "      <td>24.80</td>\n",
       "      <td>31.33</td>\n",
       "      <td>7</td>\n",
       "      <td>France</td>\n",
       "    </tr>\n",
       "    <tr>\n",
       "      <th>3</th>\n",
       "      <td>Bili</td>\n",
       "      <td>15.15</td>\n",
       "      <td>184.85</td>\n",
       "      <td>16</td>\n",
       "      <td>Greece</td>\n",
       "    </tr>\n",
       "    <tr>\n",
       "      <th>4</th>\n",
       "      <td>Myron</td>\n",
       "      <td>15.10</td>\n",
       "      <td>198.58</td>\n",
       "      <td>20</td>\n",
       "      <td>Russia</td>\n",
       "    </tr>\n",
       "    <tr>\n",
       "      <th>5</th>\n",
       "      <td>Troy</td>\n",
       "      <td>20.27</td>\n",
       "      <td>81.86</td>\n",
       "      <td>8</td>\n",
       "      <td>Russia</td>\n",
       "    </tr>\n",
       "    <tr>\n",
       "      <th>6</th>\n",
       "      <td>Boyd</td>\n",
       "      <td>28.19</td>\n",
       "      <td>21.32</td>\n",
       "      <td>7</td>\n",
       "      <td>Russia</td>\n",
       "    </tr>\n",
       "    <tr>\n",
       "      <th>7</th>\n",
       "      <td>Eimile</td>\n",
       "      <td>14.33</td>\n",
       "      <td>18.12</td>\n",
       "      <td>12</td>\n",
       "      <td>Peru</td>\n",
       "    </tr>\n",
       "    <tr>\n",
       "      <th>8</th>\n",
       "      <td>Briny</td>\n",
       "      <td>8.18</td>\n",
       "      <td>196.32</td>\n",
       "      <td>6</td>\n",
       "      <td>China</td>\n",
       "    </tr>\n",
       "    <tr>\n",
       "      <th>9</th>\n",
       "      <td>Kiley</td>\n",
       "      <td>29.59</td>\n",
       "      <td>95.02</td>\n",
       "      <td>12</td>\n",
       "      <td>Russia</td>\n",
       "    </tr>\n",
       "  </tbody>\n",
       "</table>\n",
       "</div>"
      ],
      "text/plain": [
       "  breed_name  average_height  average_weight  life_span origin_country\n",
       "0    Fairfax            7.60          129.92         12         Russia\n",
       "1     Carson           12.29          147.47          6          China\n",
       "2   Matthieu           24.80           31.33          7         France\n",
       "3       Bili           15.15          184.85         16         Greece\n",
       "4      Myron           15.10          198.58         20         Russia\n",
       "5       Troy           20.27           81.86          8         Russia\n",
       "6       Boyd           28.19           21.32          7         Russia\n",
       "7     Eimile           14.33           18.12         12           Peru\n",
       "8      Briny            8.18          196.32          6          China\n",
       "9      Kiley           29.59           95.02         12         Russia"
      ]
     },
     "execution_count": 23,
     "metadata": {},
     "output_type": "execute_result"
    }
   ],
   "source": [
    "# import csv file \n",
    "my_df2 = pd.read_csv('MOCK_DATA.csv')\n",
    "my_df2"
   ]
  },
  {
   "cell_type": "code",
   "execution_count": 24,
   "id": "5d6cf162",
   "metadata": {},
   "outputs": [
    {
     "data": {
      "text/plain": [
       "breed_name          Troy\n",
       "average_height     20.27\n",
       "average_weight     81.86\n",
       "life_span              8\n",
       "origin_country    Russia\n",
       "Name: 5, dtype: object"
      ]
     },
     "execution_count": 24,
     "metadata": {},
     "output_type": "execute_result"
    }
   ],
   "source": [
    "# Pull out rows \n",
    "my_df2.loc[5]"
   ]
  },
  {
   "cell_type": "code",
   "execution_count": 27,
   "id": "15a21019",
   "metadata": {},
   "outputs": [
    {
     "data": {
      "text/html": [
       "<div>\n",
       "<style scoped>\n",
       "    .dataframe tbody tr th:only-of-type {\n",
       "        vertical-align: middle;\n",
       "    }\n",
       "\n",
       "    .dataframe tbody tr th {\n",
       "        vertical-align: top;\n",
       "    }\n",
       "\n",
       "    .dataframe thead th {\n",
       "        text-align: right;\n",
       "    }\n",
       "</style>\n",
       "<table border=\"1\" class=\"dataframe\">\n",
       "  <thead>\n",
       "    <tr style=\"text-align: right;\">\n",
       "      <th></th>\n",
       "      <th>breed_name</th>\n",
       "      <th>average_height</th>\n",
       "      <th>average_weight</th>\n",
       "      <th>life_span</th>\n",
       "      <th>origin_country</th>\n",
       "    </tr>\n",
       "  </thead>\n",
       "  <tbody>\n",
       "    <tr>\n",
       "      <th>2</th>\n",
       "      <td>Matthieu</td>\n",
       "      <td>24.80</td>\n",
       "      <td>31.33</td>\n",
       "      <td>7</td>\n",
       "      <td>France</td>\n",
       "    </tr>\n",
       "    <tr>\n",
       "      <th>5</th>\n",
       "      <td>Troy</td>\n",
       "      <td>20.27</td>\n",
       "      <td>81.86</td>\n",
       "      <td>8</td>\n",
       "      <td>Russia</td>\n",
       "    </tr>\n",
       "    <tr>\n",
       "      <th>8</th>\n",
       "      <td>Briny</td>\n",
       "      <td>8.18</td>\n",
       "      <td>196.32</td>\n",
       "      <td>6</td>\n",
       "      <td>China</td>\n",
       "    </tr>\n",
       "  </tbody>\n",
       "</table>\n",
       "</div>"
      ],
      "text/plain": [
       "  breed_name  average_height  average_weight  life_span origin_country\n",
       "2   Matthieu           24.80           31.33          7         France\n",
       "5       Troy           20.27           81.86          8         Russia\n",
       "8      Briny            8.18          196.32          6          China"
      ]
     },
     "execution_count": 27,
     "metadata": {},
     "output_type": "execute_result"
    }
   ],
   "source": [
    "# Pull out multiple rows \n",
    "my_df2.loc[[2, 5, 8]]"
   ]
  },
  {
   "cell_type": "code",
   "execution_count": null,
   "id": "b7e9d4a5",
   "metadata": {},
   "outputs": [],
   "source": []
  }
 ],
 "metadata": {
  "kernelspec": {
   "display_name": "Python 3 (ipykernel)",
   "language": "python",
   "name": "python3"
  },
  "language_info": {
   "codemirror_mode": {
    "name": "ipython",
    "version": 3
   },
   "file_extension": ".py",
   "mimetype": "text/x-python",
   "name": "python",
   "nbconvert_exporter": "python",
   "pygments_lexer": "ipython3",
   "version": "3.11.5"
  }
 },
 "nbformat": 4,
 "nbformat_minor": 5
}
