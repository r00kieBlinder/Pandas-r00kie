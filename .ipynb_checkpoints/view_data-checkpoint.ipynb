{
 "cells": [
  {
   "cell_type": "code",
   "execution_count": 1,
   "id": "4be45bf0",
   "metadata": {},
   "outputs": [],
   "source": [
    "import pandas as pd \n",
    "import numpy as np "
   ]
  },
  {
   "cell_type": "code",
   "execution_count": 3,
   "id": "7d40c6b0",
   "metadata": {},
   "outputs": [
    {
     "data": {
      "text/html": [
       "<div>\n",
       "<style scoped>\n",
       "    .dataframe tbody tr th:only-of-type {\n",
       "        vertical-align: middle;\n",
       "    }\n",
       "\n",
       "    .dataframe tbody tr th {\n",
       "        vertical-align: top;\n",
       "    }\n",
       "\n",
       "    .dataframe thead th {\n",
       "        text-align: right;\n",
       "    }\n",
       "</style>\n",
       "<table border=\"1\" class=\"dataframe\">\n",
       "  <thead>\n",
       "    <tr style=\"text-align: right;\">\n",
       "      <th></th>\n",
       "      <th>breed_name</th>\n",
       "      <th>average_height</th>\n",
       "      <th>average_weight</th>\n",
       "      <th>life_span</th>\n",
       "      <th>origin_country</th>\n",
       "    </tr>\n",
       "  </thead>\n",
       "  <tbody>\n",
       "    <tr>\n",
       "      <th>0</th>\n",
       "      <td>Fairfax</td>\n",
       "      <td>7.60</td>\n",
       "      <td>129.92</td>\n",
       "      <td>12</td>\n",
       "      <td>Russia</td>\n",
       "    </tr>\n",
       "    <tr>\n",
       "      <th>1</th>\n",
       "      <td>Carson</td>\n",
       "      <td>12.29</td>\n",
       "      <td>147.47</td>\n",
       "      <td>6</td>\n",
       "      <td>China</td>\n",
       "    </tr>\n",
       "    <tr>\n",
       "      <th>2</th>\n",
       "      <td>Matthieu</td>\n",
       "      <td>24.80</td>\n",
       "      <td>31.33</td>\n",
       "      <td>7</td>\n",
       "      <td>France</td>\n",
       "    </tr>\n",
       "    <tr>\n",
       "      <th>3</th>\n",
       "      <td>Bili</td>\n",
       "      <td>15.15</td>\n",
       "      <td>184.85</td>\n",
       "      <td>16</td>\n",
       "      <td>Greece</td>\n",
       "    </tr>\n",
       "    <tr>\n",
       "      <th>4</th>\n",
       "      <td>Myron</td>\n",
       "      <td>15.10</td>\n",
       "      <td>198.58</td>\n",
       "      <td>20</td>\n",
       "      <td>Russia</td>\n",
       "    </tr>\n",
       "    <tr>\n",
       "      <th>5</th>\n",
       "      <td>Troy</td>\n",
       "      <td>20.27</td>\n",
       "      <td>81.86</td>\n",
       "      <td>8</td>\n",
       "      <td>Russia</td>\n",
       "    </tr>\n",
       "    <tr>\n",
       "      <th>6</th>\n",
       "      <td>Boyd</td>\n",
       "      <td>28.19</td>\n",
       "      <td>21.32</td>\n",
       "      <td>7</td>\n",
       "      <td>Russia</td>\n",
       "    </tr>\n",
       "    <tr>\n",
       "      <th>7</th>\n",
       "      <td>Eimile</td>\n",
       "      <td>14.33</td>\n",
       "      <td>18.12</td>\n",
       "      <td>12</td>\n",
       "      <td>Peru</td>\n",
       "    </tr>\n",
       "    <tr>\n",
       "      <th>8</th>\n",
       "      <td>Briny</td>\n",
       "      <td>8.18</td>\n",
       "      <td>196.32</td>\n",
       "      <td>6</td>\n",
       "      <td>China</td>\n",
       "    </tr>\n",
       "    <tr>\n",
       "      <th>9</th>\n",
       "      <td>Kiley</td>\n",
       "      <td>29.59</td>\n",
       "      <td>95.02</td>\n",
       "      <td>12</td>\n",
       "      <td>Russia</td>\n",
       "    </tr>\n",
       "  </tbody>\n",
       "</table>\n",
       "</div>"
      ],
      "text/plain": [
       "  breed_name  average_height  average_weight  life_span origin_country\n",
       "0    Fairfax            7.60          129.92         12         Russia\n",
       "1     Carson           12.29          147.47          6          China\n",
       "2   Matthieu           24.80           31.33          7         France\n",
       "3       Bili           15.15          184.85         16         Greece\n",
       "4      Myron           15.10          198.58         20         Russia\n",
       "5       Troy           20.27           81.86          8         Russia\n",
       "6       Boyd           28.19           21.32          7         Russia\n",
       "7     Eimile           14.33           18.12         12           Peru\n",
       "8      Briny            8.18          196.32          6          China\n",
       "9      Kiley           29.59           95.02         12         Russia"
      ]
     },
     "execution_count": 3,
     "metadata": {},
     "output_type": "execute_result"
    }
   ],
   "source": [
    "# import csv file \n",
    "my_df = pd.read_csv('MOCK_DATA.csv')\n",
    "my_df"
   ]
  },
  {
   "cell_type": "code",
   "execution_count": 4,
   "id": "625acc94",
   "metadata": {},
   "outputs": [
    {
     "data": {
      "text/html": [
       "<div>\n",
       "<style scoped>\n",
       "    .dataframe tbody tr th:only-of-type {\n",
       "        vertical-align: middle;\n",
       "    }\n",
       "\n",
       "    .dataframe tbody tr th {\n",
       "        vertical-align: top;\n",
       "    }\n",
       "\n",
       "    .dataframe thead th {\n",
       "        text-align: right;\n",
       "    }\n",
       "</style>\n",
       "<table border=\"1\" class=\"dataframe\">\n",
       "  <thead>\n",
       "    <tr style=\"text-align: right;\">\n",
       "      <th></th>\n",
       "      <th>breed_name</th>\n",
       "      <th>average_height</th>\n",
       "      <th>average_weight</th>\n",
       "      <th>life_span</th>\n",
       "      <th>origin_country</th>\n",
       "    </tr>\n",
       "  </thead>\n",
       "  <tbody>\n",
       "    <tr>\n",
       "      <th>0</th>\n",
       "      <td>Fairfax</td>\n",
       "      <td>7.60</td>\n",
       "      <td>129.92</td>\n",
       "      <td>12</td>\n",
       "      <td>Russia</td>\n",
       "    </tr>\n",
       "    <tr>\n",
       "      <th>1</th>\n",
       "      <td>Carson</td>\n",
       "      <td>12.29</td>\n",
       "      <td>147.47</td>\n",
       "      <td>6</td>\n",
       "      <td>China</td>\n",
       "    </tr>\n",
       "    <tr>\n",
       "      <th>2</th>\n",
       "      <td>Matthieu</td>\n",
       "      <td>24.80</td>\n",
       "      <td>31.33</td>\n",
       "      <td>7</td>\n",
       "      <td>France</td>\n",
       "    </tr>\n",
       "    <tr>\n",
       "      <th>3</th>\n",
       "      <td>Bili</td>\n",
       "      <td>15.15</td>\n",
       "      <td>184.85</td>\n",
       "      <td>16</td>\n",
       "      <td>Greece</td>\n",
       "    </tr>\n",
       "    <tr>\n",
       "      <th>4</th>\n",
       "      <td>Myron</td>\n",
       "      <td>15.10</td>\n",
       "      <td>198.58</td>\n",
       "      <td>20</td>\n",
       "      <td>Russia</td>\n",
       "    </tr>\n",
       "  </tbody>\n",
       "</table>\n",
       "</div>"
      ],
      "text/plain": [
       "  breed_name  average_height  average_weight  life_span origin_country\n",
       "0    Fairfax            7.60          129.92         12         Russia\n",
       "1     Carson           12.29          147.47          6          China\n",
       "2   Matthieu           24.80           31.33          7         France\n",
       "3       Bili           15.15          184.85         16         Greece\n",
       "4      Myron           15.10          198.58         20         Russia"
      ]
     },
     "execution_count": 4,
     "metadata": {},
     "output_type": "execute_result"
    }
   ],
   "source": [
    "# Grab first 5 rows \n",
    "my_df.head()"
   ]
  },
  {
   "cell_type": "code",
   "execution_count": 5,
   "id": "5b69a661",
   "metadata": {},
   "outputs": [
    {
     "data": {
      "text/html": [
       "<div>\n",
       "<style scoped>\n",
       "    .dataframe tbody tr th:only-of-type {\n",
       "        vertical-align: middle;\n",
       "    }\n",
       "\n",
       "    .dataframe tbody tr th {\n",
       "        vertical-align: top;\n",
       "    }\n",
       "\n",
       "    .dataframe thead th {\n",
       "        text-align: right;\n",
       "    }\n",
       "</style>\n",
       "<table border=\"1\" class=\"dataframe\">\n",
       "  <thead>\n",
       "    <tr style=\"text-align: right;\">\n",
       "      <th></th>\n",
       "      <th>breed_name</th>\n",
       "      <th>average_height</th>\n",
       "      <th>average_weight</th>\n",
       "      <th>life_span</th>\n",
       "      <th>origin_country</th>\n",
       "    </tr>\n",
       "  </thead>\n",
       "  <tbody>\n",
       "    <tr>\n",
       "      <th>0</th>\n",
       "      <td>Fairfax</td>\n",
       "      <td>7.60</td>\n",
       "      <td>129.92</td>\n",
       "      <td>12</td>\n",
       "      <td>Russia</td>\n",
       "    </tr>\n",
       "    <tr>\n",
       "      <th>1</th>\n",
       "      <td>Carson</td>\n",
       "      <td>12.29</td>\n",
       "      <td>147.47</td>\n",
       "      <td>6</td>\n",
       "      <td>China</td>\n",
       "    </tr>\n",
       "    <tr>\n",
       "      <th>2</th>\n",
       "      <td>Matthieu</td>\n",
       "      <td>24.80</td>\n",
       "      <td>31.33</td>\n",
       "      <td>7</td>\n",
       "      <td>France</td>\n",
       "    </tr>\n",
       "    <tr>\n",
       "      <th>3</th>\n",
       "      <td>Bili</td>\n",
       "      <td>15.15</td>\n",
       "      <td>184.85</td>\n",
       "      <td>16</td>\n",
       "      <td>Greece</td>\n",
       "    </tr>\n",
       "    <tr>\n",
       "      <th>4</th>\n",
       "      <td>Myron</td>\n",
       "      <td>15.10</td>\n",
       "      <td>198.58</td>\n",
       "      <td>20</td>\n",
       "      <td>Russia</td>\n",
       "    </tr>\n",
       "    <tr>\n",
       "      <th>5</th>\n",
       "      <td>Troy</td>\n",
       "      <td>20.27</td>\n",
       "      <td>81.86</td>\n",
       "      <td>8</td>\n",
       "      <td>Russia</td>\n",
       "    </tr>\n",
       "    <tr>\n",
       "      <th>6</th>\n",
       "      <td>Boyd</td>\n",
       "      <td>28.19</td>\n",
       "      <td>21.32</td>\n",
       "      <td>7</td>\n",
       "      <td>Russia</td>\n",
       "    </tr>\n",
       "    <tr>\n",
       "      <th>7</th>\n",
       "      <td>Eimile</td>\n",
       "      <td>14.33</td>\n",
       "      <td>18.12</td>\n",
       "      <td>12</td>\n",
       "      <td>Peru</td>\n",
       "    </tr>\n",
       "    <tr>\n",
       "      <th>8</th>\n",
       "      <td>Briny</td>\n",
       "      <td>8.18</td>\n",
       "      <td>196.32</td>\n",
       "      <td>6</td>\n",
       "      <td>China</td>\n",
       "    </tr>\n",
       "  </tbody>\n",
       "</table>\n",
       "</div>"
      ],
      "text/plain": [
       "  breed_name  average_height  average_weight  life_span origin_country\n",
       "0    Fairfax            7.60          129.92         12         Russia\n",
       "1     Carson           12.29          147.47          6          China\n",
       "2   Matthieu           24.80           31.33          7         France\n",
       "3       Bili           15.15          184.85         16         Greece\n",
       "4      Myron           15.10          198.58         20         Russia\n",
       "5       Troy           20.27           81.86          8         Russia\n",
       "6       Boyd           28.19           21.32          7         Russia\n",
       "7     Eimile           14.33           18.12         12           Peru\n",
       "8      Briny            8.18          196.32          6          China"
      ]
     },
     "execution_count": 5,
     "metadata": {},
     "output_type": "execute_result"
    }
   ],
   "source": [
    "# Grab certain number of first rows \n",
    "my_df.head(9)"
   ]
  },
  {
   "cell_type": "code",
   "execution_count": 6,
   "id": "ddb47e17",
   "metadata": {},
   "outputs": [
    {
     "data": {
      "text/html": [
       "<div>\n",
       "<style scoped>\n",
       "    .dataframe tbody tr th:only-of-type {\n",
       "        vertical-align: middle;\n",
       "    }\n",
       "\n",
       "    .dataframe tbody tr th {\n",
       "        vertical-align: top;\n",
       "    }\n",
       "\n",
       "    .dataframe thead th {\n",
       "        text-align: right;\n",
       "    }\n",
       "</style>\n",
       "<table border=\"1\" class=\"dataframe\">\n",
       "  <thead>\n",
       "    <tr style=\"text-align: right;\">\n",
       "      <th></th>\n",
       "      <th>breed_name</th>\n",
       "      <th>average_height</th>\n",
       "      <th>average_weight</th>\n",
       "      <th>life_span</th>\n",
       "      <th>origin_country</th>\n",
       "    </tr>\n",
       "  </thead>\n",
       "  <tbody>\n",
       "    <tr>\n",
       "      <th>5</th>\n",
       "      <td>Troy</td>\n",
       "      <td>20.27</td>\n",
       "      <td>81.86</td>\n",
       "      <td>8</td>\n",
       "      <td>Russia</td>\n",
       "    </tr>\n",
       "    <tr>\n",
       "      <th>6</th>\n",
       "      <td>Boyd</td>\n",
       "      <td>28.19</td>\n",
       "      <td>21.32</td>\n",
       "      <td>7</td>\n",
       "      <td>Russia</td>\n",
       "    </tr>\n",
       "    <tr>\n",
       "      <th>7</th>\n",
       "      <td>Eimile</td>\n",
       "      <td>14.33</td>\n",
       "      <td>18.12</td>\n",
       "      <td>12</td>\n",
       "      <td>Peru</td>\n",
       "    </tr>\n",
       "    <tr>\n",
       "      <th>8</th>\n",
       "      <td>Briny</td>\n",
       "      <td>8.18</td>\n",
       "      <td>196.32</td>\n",
       "      <td>6</td>\n",
       "      <td>China</td>\n",
       "    </tr>\n",
       "    <tr>\n",
       "      <th>9</th>\n",
       "      <td>Kiley</td>\n",
       "      <td>29.59</td>\n",
       "      <td>95.02</td>\n",
       "      <td>12</td>\n",
       "      <td>Russia</td>\n",
       "    </tr>\n",
       "  </tbody>\n",
       "</table>\n",
       "</div>"
      ],
      "text/plain": [
       "  breed_name  average_height  average_weight  life_span origin_country\n",
       "5       Troy           20.27           81.86          8         Russia\n",
       "6       Boyd           28.19           21.32          7         Russia\n",
       "7     Eimile           14.33           18.12         12           Peru\n",
       "8      Briny            8.18          196.32          6          China\n",
       "9      Kiley           29.59           95.02         12         Russia"
      ]
     },
     "execution_count": 6,
     "metadata": {},
     "output_type": "execute_result"
    }
   ],
   "source": [
    "# Grab last 5 rows \n",
    "my_df.tail()"
   ]
  },
  {
   "cell_type": "code",
   "execution_count": 7,
   "id": "78bc9749",
   "metadata": {},
   "outputs": [
    {
     "data": {
      "text/html": [
       "<div>\n",
       "<style scoped>\n",
       "    .dataframe tbody tr th:only-of-type {\n",
       "        vertical-align: middle;\n",
       "    }\n",
       "\n",
       "    .dataframe tbody tr th {\n",
       "        vertical-align: top;\n",
       "    }\n",
       "\n",
       "    .dataframe thead th {\n",
       "        text-align: right;\n",
       "    }\n",
       "</style>\n",
       "<table border=\"1\" class=\"dataframe\">\n",
       "  <thead>\n",
       "    <tr style=\"text-align: right;\">\n",
       "      <th></th>\n",
       "      <th>breed_name</th>\n",
       "      <th>average_height</th>\n",
       "      <th>average_weight</th>\n",
       "      <th>life_span</th>\n",
       "      <th>origin_country</th>\n",
       "    </tr>\n",
       "  </thead>\n",
       "  <tbody>\n",
       "    <tr>\n",
       "      <th>4</th>\n",
       "      <td>Myron</td>\n",
       "      <td>15.10</td>\n",
       "      <td>198.58</td>\n",
       "      <td>20</td>\n",
       "      <td>Russia</td>\n",
       "    </tr>\n",
       "    <tr>\n",
       "      <th>5</th>\n",
       "      <td>Troy</td>\n",
       "      <td>20.27</td>\n",
       "      <td>81.86</td>\n",
       "      <td>8</td>\n",
       "      <td>Russia</td>\n",
       "    </tr>\n",
       "    <tr>\n",
       "      <th>6</th>\n",
       "      <td>Boyd</td>\n",
       "      <td>28.19</td>\n",
       "      <td>21.32</td>\n",
       "      <td>7</td>\n",
       "      <td>Russia</td>\n",
       "    </tr>\n",
       "    <tr>\n",
       "      <th>7</th>\n",
       "      <td>Eimile</td>\n",
       "      <td>14.33</td>\n",
       "      <td>18.12</td>\n",
       "      <td>12</td>\n",
       "      <td>Peru</td>\n",
       "    </tr>\n",
       "    <tr>\n",
       "      <th>8</th>\n",
       "      <td>Briny</td>\n",
       "      <td>8.18</td>\n",
       "      <td>196.32</td>\n",
       "      <td>6</td>\n",
       "      <td>China</td>\n",
       "    </tr>\n",
       "    <tr>\n",
       "      <th>9</th>\n",
       "      <td>Kiley</td>\n",
       "      <td>29.59</td>\n",
       "      <td>95.02</td>\n",
       "      <td>12</td>\n",
       "      <td>Russia</td>\n",
       "    </tr>\n",
       "  </tbody>\n",
       "</table>\n",
       "</div>"
      ],
      "text/plain": [
       "  breed_name  average_height  average_weight  life_span origin_country\n",
       "4      Myron           15.10          198.58         20         Russia\n",
       "5       Troy           20.27           81.86          8         Russia\n",
       "6       Boyd           28.19           21.32          7         Russia\n",
       "7     Eimile           14.33           18.12         12           Peru\n",
       "8      Briny            8.18          196.32          6          China\n",
       "9      Kiley           29.59           95.02         12         Russia"
      ]
     },
     "execution_count": 7,
     "metadata": {},
     "output_type": "execute_result"
    }
   ],
   "source": [
    "# Grab certain number of last rows \n",
    "my_df.tail(6)"
   ]
  },
  {
   "cell_type": "code",
   "execution_count": 8,
   "id": "f765c628",
   "metadata": {},
   "outputs": [
    {
     "name": "stdout",
     "output_type": "stream",
     "text": [
      "<class 'pandas.core.frame.DataFrame'>\n",
      "RangeIndex: 10 entries, 0 to 9\n",
      "Data columns (total 5 columns):\n",
      " #   Column          Non-Null Count  Dtype  \n",
      "---  ------          --------------  -----  \n",
      " 0   breed_name      10 non-null     object \n",
      " 1   average_height  10 non-null     float64\n",
      " 2   average_weight  10 non-null     float64\n",
      " 3   life_span       10 non-null     int64  \n",
      " 4   origin_country  10 non-null     object \n",
      "dtypes: float64(2), int64(1), object(2)\n",
      "memory usage: 532.0+ bytes\n"
     ]
    }
   ],
   "source": [
    "# Get into about the dataframe\n",
    "my_df.info()"
   ]
  },
  {
   "cell_type": "code",
   "execution_count": 9,
   "id": "6d642f0f",
   "metadata": {},
   "outputs": [
    {
     "data": {
      "text/plain": [
       "(10, 5)"
      ]
     },
     "execution_count": 9,
     "metadata": {},
     "output_type": "execute_result"
    }
   ],
   "source": [
    "# Get shape of rows and columns\n",
    "my_df.shape"
   ]
  },
  {
   "cell_type": "code",
   "execution_count": 10,
   "id": "d6bc885e",
   "metadata": {},
   "outputs": [
    {
     "data": {
      "text/plain": [
       "2"
      ]
     },
     "execution_count": 10,
     "metadata": {},
     "output_type": "execute_result"
    }
   ],
   "source": [
    "# Get number of dimensions \n",
    "my_df.ndim"
   ]
  },
  {
   "cell_type": "code",
   "execution_count": 11,
   "id": "3b30ac6a",
   "metadata": {},
   "outputs": [
    {
     "data": {
      "text/plain": [
       "breed_name         object\n",
       "average_height    float64\n",
       "average_weight    float64\n",
       "life_span           int64\n",
       "origin_country     object\n",
       "dtype: object"
      ]
     },
     "execution_count": 11,
     "metadata": {},
     "output_type": "execute_result"
    }
   ],
   "source": [
    "# Get the column datatypes \n",
    "my_df.dtypes "
   ]
  },
  {
   "cell_type": "code",
   "execution_count": 12,
   "id": "26a43f1e",
   "metadata": {},
   "outputs": [
    {
     "data": {
      "text/html": [
       "<div>\n",
       "<style scoped>\n",
       "    .dataframe tbody tr th:only-of-type {\n",
       "        vertical-align: middle;\n",
       "    }\n",
       "\n",
       "    .dataframe tbody tr th {\n",
       "        vertical-align: top;\n",
       "    }\n",
       "\n",
       "    .dataframe thead th {\n",
       "        text-align: right;\n",
       "    }\n",
       "</style>\n",
       "<table border=\"1\" class=\"dataframe\">\n",
       "  <thead>\n",
       "    <tr style=\"text-align: right;\">\n",
       "      <th></th>\n",
       "      <th>average_height</th>\n",
       "      <th>average_weight</th>\n",
       "      <th>life_span</th>\n",
       "    </tr>\n",
       "  </thead>\n",
       "  <tbody>\n",
       "    <tr>\n",
       "      <th>count</th>\n",
       "      <td>10.000000</td>\n",
       "      <td>10.00000</td>\n",
       "      <td>10.000000</td>\n",
       "    </tr>\n",
       "    <tr>\n",
       "      <th>mean</th>\n",
       "      <td>17.550000</td>\n",
       "      <td>110.47900</td>\n",
       "      <td>10.600000</td>\n",
       "    </tr>\n",
       "    <tr>\n",
       "      <th>std</th>\n",
       "      <td>7.850902</td>\n",
       "      <td>71.65496</td>\n",
       "      <td>4.695151</td>\n",
       "    </tr>\n",
       "    <tr>\n",
       "      <th>min</th>\n",
       "      <td>7.600000</td>\n",
       "      <td>18.12000</td>\n",
       "      <td>6.000000</td>\n",
       "    </tr>\n",
       "    <tr>\n",
       "      <th>25%</th>\n",
       "      <td>12.800000</td>\n",
       "      <td>43.96250</td>\n",
       "      <td>7.000000</td>\n",
       "    </tr>\n",
       "    <tr>\n",
       "      <th>50%</th>\n",
       "      <td>15.125000</td>\n",
       "      <td>112.47000</td>\n",
       "      <td>10.000000</td>\n",
       "    </tr>\n",
       "    <tr>\n",
       "      <th>75%</th>\n",
       "      <td>23.667500</td>\n",
       "      <td>175.50500</td>\n",
       "      <td>12.000000</td>\n",
       "    </tr>\n",
       "    <tr>\n",
       "      <th>max</th>\n",
       "      <td>29.590000</td>\n",
       "      <td>198.58000</td>\n",
       "      <td>20.000000</td>\n",
       "    </tr>\n",
       "  </tbody>\n",
       "</table>\n",
       "</div>"
      ],
      "text/plain": [
       "       average_height  average_weight  life_span\n",
       "count       10.000000        10.00000  10.000000\n",
       "mean        17.550000       110.47900  10.600000\n",
       "std          7.850902        71.65496   4.695151\n",
       "min          7.600000        18.12000   6.000000\n",
       "25%         12.800000        43.96250   7.000000\n",
       "50%         15.125000       112.47000  10.000000\n",
       "75%         23.667500       175.50500  12.000000\n",
       "max         29.590000       198.58000  20.000000"
      ]
     },
     "execution_count": 12,
     "metadata": {},
     "output_type": "execute_result"
    }
   ],
   "source": [
    "# Get some statistics about the data\n",
    "my_df.describe()"
   ]
  },
  {
   "cell_type": "code",
   "execution_count": 13,
   "id": "4ad2546c",
   "metadata": {},
   "outputs": [
    {
     "data": {
      "text/plain": [
       "count          10\n",
       "unique         10\n",
       "top       Fairfax\n",
       "freq            1\n",
       "Name: breed_name, dtype: object"
      ]
     },
     "execution_count": 13,
     "metadata": {},
     "output_type": "execute_result"
    }
   ],
   "source": [
    "# Describe a specific column \n",
    "my_df['breed_name'].describe()"
   ]
  },
  {
   "cell_type": "code",
   "execution_count": 14,
   "id": "49fddd29",
   "metadata": {},
   "outputs": [
    {
     "data": {
      "text/plain": [
       "count         10\n",
       "unique         5\n",
       "top       Russia\n",
       "freq           5\n",
       "Name: origin_country, dtype: object"
      ]
     },
     "execution_count": 14,
     "metadata": {},
     "output_type": "execute_result"
    }
   ],
   "source": [
    "# Describe a specific column \n",
    "my_df['origin_country'].describe()"
   ]
  },
  {
   "cell_type": "code",
   "execution_count": 15,
   "id": "e1f7e249",
   "metadata": {},
   "outputs": [
    {
     "data": {
      "text/plain": [
       "count    10.000000\n",
       "mean     10.600000\n",
       "std       4.695151\n",
       "min       6.000000\n",
       "25%       7.000000\n",
       "50%      10.000000\n",
       "75%      12.000000\n",
       "max      20.000000\n",
       "Name: life_span, dtype: float64"
      ]
     },
     "execution_count": 15,
     "metadata": {},
     "output_type": "execute_result"
    }
   ],
   "source": [
    "# Describe a specific column \n",
    "my_df['life_span'].describe()"
   ]
  },
  {
   "cell_type": "code",
   "execution_count": 16,
   "id": "57ebb002",
   "metadata": {},
   "outputs": [
    {
     "data": {
      "text/plain": [
       "0     Fairfax\n",
       "1      Carson\n",
       "2    Matthieu\n",
       "3        Bili\n",
       "4       Myron\n",
       "5        Troy\n",
       "6        Boyd\n",
       "7      Eimile\n",
       "8       Briny\n",
       "9       Kiley\n",
       "Name: breed_name, dtype: object"
      ]
     },
     "execution_count": 16,
     "metadata": {},
     "output_type": "execute_result"
    }
   ],
   "source": [
    "# Select specific column using brackets\n",
    "my_df['breed_name']"
   ]
  },
  {
   "cell_type": "code",
   "execution_count": 17,
   "id": "d0f5be7b",
   "metadata": {},
   "outputs": [
    {
     "data": {
      "text/plain": [
       "0     Fairfax\n",
       "1      Carson\n",
       "2    Matthieu\n",
       "3        Bili\n",
       "4       Myron\n",
       "5        Troy\n",
       "6        Boyd\n",
       "7      Eimile\n",
       "8       Briny\n",
       "9       Kiley\n",
       "Name: breed_name, dtype: object"
      ]
     },
     "execution_count": 17,
     "metadata": {},
     "output_type": "execute_result"
    }
   ],
   "source": [
    "# Select specific column using Dot Notation -> same thing\n",
    "my_df.breed_name"
   ]
  },
  {
   "cell_type": "code",
   "execution_count": 21,
   "id": "98ac9d0f",
   "metadata": {},
   "outputs": [
    {
     "data": {
      "text/plain": [
       "0    12\n",
       "1     6\n",
       "2     7\n",
       "3    16\n",
       "4    20\n",
       "5     8\n",
       "6     7\n",
       "7    12\n",
       "8     6\n",
       "9    12\n",
       "Name: life_span, dtype: int64"
      ]
     },
     "execution_count": 21,
     "metadata": {},
     "output_type": "execute_result"
    }
   ],
   "source": [
    "# Select Specific column using Location\n",
    "my_df.iloc[:, 3]"
   ]
  },
  {
   "cell_type": "code",
   "execution_count": null,
   "id": "7efbd0b4",
   "metadata": {},
   "outputs": [],
   "source": [
    " "
   ]
  }
 ],
 "metadata": {
  "kernelspec": {
   "display_name": "Python 3 (ipykernel)",
   "language": "python",
   "name": "python3"
  },
  "language_info": {
   "codemirror_mode": {
    "name": "ipython",
    "version": 3
   },
   "file_extension": ".py",
   "mimetype": "text/x-python",
   "name": "python",
   "nbconvert_exporter": "python",
   "pygments_lexer": "ipython3",
   "version": "3.11.5"
  }
 },
 "nbformat": 4,
 "nbformat_minor": 5
}
